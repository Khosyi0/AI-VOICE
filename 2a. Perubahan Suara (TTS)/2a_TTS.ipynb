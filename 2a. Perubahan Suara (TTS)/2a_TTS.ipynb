{
  "nbformat": 4,
  "nbformat_minor": 0,
  "metadata": {
    "colab": {
      "provenance": []
    },
    "kernelspec": {
      "name": "python3",
      "display_name": "Python 3"
    },
    "language_info": {
      "name": "python"
    }
  },
  "cells": [
    {
      "cell_type": "markdown",
      "source": [
        "### **Mount Google Drive**"
      ],
      "metadata": {
        "id": "gtUUM2JCOZDO"
      }
    },
    {
      "cell_type": "code",
      "source": [
        "from google.colab import drive\n",
        "drive.mount('/content/drive')"
      ],
      "metadata": {
        "id": "oJQ5QBJaOjf-"
      },
      "execution_count": null,
      "outputs": []
    },
    {
      "cell_type": "markdown",
      "source": [
        "### **TTS**"
      ],
      "metadata": {
        "id": "68n1OyoyOUzz"
      }
    },
    {
      "cell_type": "markdown",
      "source": [
        "Install dependencies"
      ],
      "metadata": {
        "id": "0qg-lXjCOwc2"
      }
    },
    {
      "cell_type": "code",
      "execution_count": null,
      "metadata": {
        "id": "9Sqj3vTyIC8U"
      },
      "outputs": [],
      "source": [
        "!python -m pip install -U pip wheel\n",
        "!pip install -U ipython\n",
        "!pip install -U so-vits-svc-fork\n",
        "!pip install edge-tts\n",
        "!pip install audiosegment"
      ]
    },
    {
      "cell_type": "markdown",
      "source": [
        "Kode TTS"
      ],
      "metadata": {
        "id": "LuD0K-CcIOxo"
      }
    },
    {
      "cell_type": "code",
      "source": [
        "import subprocess\n",
        "import audiosegment\n",
        "from IPython.display import Audio, display\n",
        "\n",
        "gender = \"Female\" #@param [\"Male\", \"Female\"]\n",
        "text = \"isi text\" #@param {type:\"string\"}\n",
        "\n",
        "if gender == \"Male\":\n",
        "  command = ['edge-tts', '--voice', 'id-ID-ArdiNeural', '--text', text, '--write-media', 'tts.mp3', '--write-subtitles', 'isi_tts.vtt']\n",
        "  result = subprocess.run(command, stdout=subprocess.PIPE, text=True)\n",
        "  print(result.stdout)\n",
        "elif gender == \"Female\":\n",
        "  command = ['edge-tts', '--voice', 'id-ID-GadisNeural', '--text', text, '--write-media', 'tts.mp3', '--write-subtitles', 'isi_tts.vtt']\n",
        "  result = subprocess.run(command, stdout=subprocess.PIPE, text=True)\n",
        "  print(result.stdout)\n",
        "\n",
        "audio = audiosegment.from_file(\"tts.mp3\")\n",
        "\n",
        "# Set the output format to WAV\n",
        "audio = audio.set_sample_width(2)\n",
        "audio = audio.set_frame_rate(44100)\n",
        "audio = audio.set_channels(1)\n",
        "\n",
        "# Export the audio to WAV format\n",
        "audio.export(\"tts.wav\", format='wav')\n",
        "\n",
        "AUDIO = \"/content/tts\" \n",
        "MODEL = \"isi path file pth\" #@param {type:\"string\"}\n",
        "CONFIG = \"isi path file config.json\" #@param {type:\"string\"}\n",
        "METHOD = \"harvest\" #@param [\"harvest\", \"dio\", \"crepe\", \"crepe-tiny\", \"parselmouth\"]\n",
        "PITCH = 0 #@param {type:\"slider\", min:-12, max:12, step:1}\n",
        "\n",
        "# Auto Pitch Mode\n",
        "!svc infer {AUDIO}.wav -c {CONFIG} -m {MODEL} -fm {METHOD}\n",
        "\n",
        "# Manual Pitch Mode\n",
        "#!svc infer {AUDIO}.wav -c {CONFIG} -m {MODEL} -fm {METHOD} -na -t {PITCH}\n",
        "\n",
        "# Try comment this line below if you got Runtime Error\n",
        "try:\n",
        "  display(Audio(f\"{AUDIO}.out.wav\", autoplay=True))\n",
        "except Exception as e:  print(\"Error:\", str(e))"
      ],
      "metadata": {
        "id": "thPihL1fIVqI"
      },
      "execution_count": null,
      "outputs": []
    }
  ]
}