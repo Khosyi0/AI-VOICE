{
  "nbformat": 4,
  "nbformat_minor": 0,
  "metadata": {
    "colab": {
      "provenance": []
    },
    "kernelspec": {
      "name": "python3",
      "display_name": "Python 3"
    },
    "language_info": {
      "name": "python"
    }
  },
  "cells": [
    {
      "cell_type": "markdown",
      "source": [
        "\n",
        "\n",
        "### **Mount Google Drive**"
      ],
      "metadata": {
        "id": "T3t6Nn5VOHtT"
      }
    },
    {
      "cell_type": "code",
      "source": [
        "from google.colab import drive\n",
        "drive.mount('/content/drive')"
      ],
      "metadata": {
        "id": "P7_DU43gOMlx"
      },
      "execution_count": null,
      "outputs": []
    },
    {
      "cell_type": "markdown",
      "source": [
        "### **Download Audio dari Youtube dan Convert menjadi .wav**\n"
      ],
      "metadata": {
        "id": "-IT8Aibr_KJX"
      }
    },
    {
      "cell_type": "markdown",
      "source": [
        "Install Dependencies"
      ],
      "metadata": {
        "id": "y3qICNv5_vln"
      }
    },
    {
      "cell_type": "code",
      "source": [
        "!pip install yt_dlp\n",
        "!pip install ffmpeg\n",
        "!mkdir youtubeaudio"
      ],
      "metadata": {
        "id": "qaocsiSx_S2r"
      },
      "execution_count": null,
      "outputs": []
    },
    {
      "cell_type": "markdown",
      "source": [
        "Kode Download"
      ],
      "metadata": {
        "id": "u5-KSLof_04M"
      }
    },
    {
      "cell_type": "code",
      "source": [
        "from __future__ import unicode_literals\n",
        "import yt_dlp\n",
        "import ffmpeg\n",
        "import sys\n",
        "\n",
        "ydl_opts = {\n",
        "    'format': 'bestaudio/best',\n",
        "#    'outtmpl': 'output.%(ext)s',\n",
        "    'postprocessors': [{\n",
        "        'key': 'FFmpegExtractAudio',\n",
        "        'preferredcodec': 'wav',\n",
        "    }],\n",
        "    \"outtmpl\": 'youtubeaudio/audio',  # path output file\n",
        "}\n",
        "def download_from_url(url):\n",
        "    ydl.download([url])\n",
        "    # stream = ffmpeg.input('output.m4a')\n",
        "    # stream = ffmpeg.output(stream, 'output.wav')\n",
        "\n",
        "\n",
        "with yt_dlp.YoutubeDL(ydl_opts) as ydl:\n",
        "      url = \"masukkan link youtube\" #@param {type:\"string\"}\n",
        "      download_from_url(url)"
      ],
      "metadata": {
        "id": "SNdRNs-C_8IB"
      },
      "execution_count": null,
      "outputs": []
    },
    {
      "cell_type": "markdown",
      "source": [
        "### **Pemisah Audio**"
      ],
      "metadata": {
        "id": "SbcrsTDKAsxV"
      }
    },
    {
      "cell_type": "markdown",
      "source": [
        "Install Dependencies"
      ],
      "metadata": {
        "id": "yPq4LeaQA8GA"
      }
    },
    {
      "cell_type": "code",
      "source": [
        "!python3 -m pip install -U demucs"
      ],
      "metadata": {
        "id": "6z015FHTA5Uv"
      },
      "execution_count": null,
      "outputs": []
    },
    {
      "cell_type": "markdown",
      "source": [
        "Kode Pemisah Audio"
      ],
      "metadata": {
        "id": "Uo-FdAuUBBLz"
      }
    },
    {
      "cell_type": "code",
      "source": [
        "import subprocess\n",
        "AUDIO_INPUT = \"/path/to/youtubeaudio/audio.wav\" #@param {type:\"string\"}\n",
        "\n",
        "command = f\"demucs --two-stems=vocals {AUDIO_INPUT}\"\n",
        "result = subprocess.run(command.split(), stdout=subprocess.PIPE)\n",
        "print(result.stdout.decode())"
      ],
      "metadata": {
        "id": "Zi4rgrbyDYUm"
      },
      "execution_count": null,
      "outputs": []
    }
  ]
}