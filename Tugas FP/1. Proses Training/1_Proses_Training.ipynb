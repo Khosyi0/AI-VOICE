{
  "nbformat": 4,
  "nbformat_minor": 0,
  "metadata": {
    "colab": {
      "provenance": []
    },
    "kernelspec": {
      "name": "python3",
      "display_name": "Python 3"
    },
    "language_info": {
      "name": "python"
    }
  },
  "cells": [
    {
      "cell_type": "markdown",
      "source": [
        "### **Mount Google Drive**"
      ],
      "metadata": {
        "id": "iykhZCRxFYvv"
      }
    },
    {
      "cell_type": "code",
      "execution_count": null,
      "metadata": {
        "id": "608If6OlFPKN"
      },
      "outputs": [],
      "source": [
        "from google.colab import drive\n",
        "drive.mount('/content/drive')"
      ]
    },
    {
      "cell_type": "markdown",
      "source": [
        "### **Splitting Audio**"
      ],
      "metadata": {
        "id": "byVWGCSVFeAW"
      }
    },
    {
      "cell_type": "markdown",
      "source": [
        "Isi nama audio"
      ],
      "metadata": {
        "id": "F9O6W7CYFs69"
      }
    },
    {
      "cell_type": "code",
      "source": [
        "SPEAKER_NAME = \"isi_nama_suara\" #@param {type:\"string\"}\n",
        "!mkdir -p dataset_raw/{SPEAKER_NAME}"
      ],
      "metadata": {
        "id": "pS1jzuuwFpux"
      },
      "execution_count": null,
      "outputs": []
    },
    {
      "cell_type": "markdown",
      "source": [
        "Kode splitting audio"
      ],
      "metadata": {
        "id": "ZaGIV3TaF2e3"
      }
    },
    {
      "cell_type": "code",
      "source": [
        "from scipy.io import wavfile\n",
        "import os\n",
        "import numpy as np\n",
        "import argparse\n",
        "from tqdm import tqdm\n",
        "import json\n",
        "\n",
        "from datetime import datetime, timedelta\n",
        "\n",
        "# Utility functions\n",
        "\n",
        "def GetTime(video_seconds):\n",
        "\n",
        "    if (video_seconds < 0) :\n",
        "        return 00\n",
        "\n",
        "    else:\n",
        "        sec = timedelta(seconds=float(video_seconds))\n",
        "        d = datetime(1,1,1) + sec\n",
        "\n",
        "        instant = str(d.hour).zfill(2) + ':' + str(d.minute).zfill(2) + ':' + str(d.second).zfill(2) + str('.001')\n",
        "    \n",
        "        return instant\n",
        "\n",
        "def GetTotalTime(video_seconds):\n",
        "\n",
        "    sec = timedelta(seconds=float(video_seconds))\n",
        "    d = datetime(1,1,1) + sec\n",
        "    delta = str(d.hour) + ':' + str(d.minute) + \":\" + str(d.second)\n",
        "    \n",
        "    return delta\n",
        "\n",
        "def windows(signal, window_size, step_size):\n",
        "    if type(window_size) is not int:\n",
        "        raise AttributeError(\"Window size must be an integer.\")\n",
        "    if type(step_size) is not int:\n",
        "        raise AttributeError(\"Step size must be an integer.\")\n",
        "    for i_start in range(0, len(signal), step_size):\n",
        "        i_end = i_start + window_size\n",
        "        if i_end >= len(signal):\n",
        "            break\n",
        "        yield signal[i_start:i_end]\n",
        "\n",
        "def energy(samples):\n",
        "    return np.sum(np.power(samples, 2.)) / float(len(samples))\n",
        "\n",
        "def rising_edges(binary_signal):\n",
        "    previous_value = 0\n",
        "    index = 0\n",
        "    for x in binary_signal:\n",
        "        if x and not previous_value:\n",
        "            yield index\n",
        "        previous_value = x\n",
        "        index += 1\n",
        "\n",
        "# Change the arguments and the input file here\n",
        "input_file = \"path file audio .wav\" #@param {type:\"string\"}\n",
        "output_dir = f\"/content/dataset_raw/{SPEAKER_NAME}\"\n",
        "min_silence_length = 0.6  # The minimum length of silence at which a split may occur [seconds]. Defaults to 3 seconds.\n",
        "silence_threshold = 1e-4  # The energy level (between 0.0 and 1.0) below which the signal is regarded as silent.\n",
        "step_duration = 0.03/10   # The amount of time to step forward in the input file after calculating energy. Smaller value = slower, but more accurate silence detection. Larger value = faster, but might miss some split opportunities. Defaults to (min-silence-length / 10.).\n",
        "\n",
        "\n",
        "input_filename = input_file\n",
        "window_duration = min_silence_length\n",
        "if step_duration is None:\n",
        "    step_duration = window_duration / 10.\n",
        "else:\n",
        "    step_duration = step_duration\n",
        "\n",
        "output_filename_prefix = os.path.splitext(os.path.basename(input_filename))[0]\n",
        "dry_run = False\n",
        "\n",
        "print(\"Splitting {} where energy is below {}% for longer than {}s.\".format(\n",
        "    input_filename,\n",
        "    silence_threshold * 100.,\n",
        "    window_duration\n",
        "    )\n",
        ")\n",
        "\n",
        "# Read and split the file\n",
        "\n",
        "sample_rate, samples = input_data=wavfile.read(filename=input_filename, mmap=True)\n",
        "\n",
        "max_amplitude = np.iinfo(samples.dtype).max\n",
        "print(max_amplitude)\n",
        "\n",
        "max_energy = energy([max_amplitude])\n",
        "print(max_energy)\n",
        "\n",
        "window_size = int(window_duration * sample_rate)\n",
        "step_size = int(step_duration * sample_rate)\n",
        "\n",
        "signal_windows = windows(\n",
        "    signal=samples,\n",
        "    window_size=window_size,\n",
        "    step_size=step_size\n",
        ")\n",
        "\n",
        "window_energy = (energy(w) / max_energy for w in tqdm(\n",
        "    signal_windows,\n",
        "    total=int(len(samples) / float(step_size))\n",
        "))\n",
        "\n",
        "window_silence = (e > silence_threshold for e in window_energy)\n",
        "\n",
        "cut_times = (r * step_duration for r in rising_edges(window_silence))\n",
        "\n",
        "# This is the step that takes long, since we force the generators to run.\n",
        "print(\"Finding silences...\")\n",
        "cut_samples = [int(t * sample_rate) for t in cut_times]\n",
        "cut_samples.append(-1)\n",
        "\n",
        "cut_ranges = [(i, cut_samples[i], cut_samples[i+1]) for i in range(len(cut_samples) - 1)]\n",
        "\n",
        "video_sub = {str(i) : [str(GetTime(((cut_samples[i])/sample_rate))), \n",
        "                       str(GetTime(((cut_samples[i+1])/sample_rate)))] \n",
        "             for i in range(len(cut_samples) - 1)}\n",
        "\n",
        "for i, start, stop in tqdm(cut_ranges):\n",
        "    output_file_path = \"{}_{:03d}.wav\".format(\n",
        "        os.path.join(output_dir, output_filename_prefix),\n",
        "        i\n",
        "    )\n",
        "    if not dry_run:\n",
        "        print(\"Writing file {}\".format(output_file_path))\n",
        "        wavfile.write(\n",
        "            filename=output_file_path,\n",
        "            rate=sample_rate,\n",
        "            data=samples[start:stop]\n",
        "        )\n",
        "    else:\n",
        "        print(\"Not writing file {}\".format(output_file_path))\n",
        "        \n",
        "with open (output_dir+'\\\\'+output_filename_prefix+'.json', 'w') as output:\n",
        "    json.dump(video_sub, output)"
      ],
      "metadata": {
        "id": "M19hwuzBF9wZ"
      },
      "execution_count": null,
      "outputs": []
    },
    {
      "cell_type": "markdown",
      "source": [
        "### **Training**"
      ],
      "metadata": {
        "id": "8IpTFwj3GOWi"
      }
    },
    {
      "cell_type": "markdown",
      "source": [
        "Install Dependencies"
      ],
      "metadata": {
        "id": "aEw5d5w2GR_Z"
      }
    },
    {
      "cell_type": "code",
      "source": [
        "!python -m pip install -U pip wheel\n",
        "%pip install -U ipython\n",
        "%pip install -U so-vits-svc-fork\n",
        "!mkdir drive/MyDrive/so-vits-svc-fork"
      ],
      "metadata": {
        "id": "H1qr0gQYGUE5"
      },
      "execution_count": null,
      "outputs": []
    },
    {
      "cell_type": "markdown",
      "source": [
        "Setelah proses di atas selesai, tekan tombol `RESTART RUNTIME`, lalu jalankan kode berikutnya"
      ],
      "metadata": {
        "id": "VirSvg9fGdPk"
      }
    },
    {
      "cell_type": "code",
      "source": [
        "!svc pre-resample"
      ],
      "metadata": {
        "id": "A0Zltbk3GZm2"
      },
      "execution_count": null,
      "outputs": []
    },
    {
      "cell_type": "code",
      "source": [
        "!svc pre-config"
      ],
      "metadata": {
        "id": "gtOKZTWHGshm"
      },
      "execution_count": null,
      "outputs": []
    },
    {
      "cell_type": "code",
      "source": [
        "!cp configs/44k/config.json drive/MyDrive/so-vits-svc-fork"
      ],
      "metadata": {
        "id": "eaeRy2jFGtOq"
      },
      "execution_count": null,
      "outputs": []
    },
    {
      "cell_type": "markdown",
      "source": [
        "Pilih method yang diinginkan, rekomendasi kami: harvest atau dio"
      ],
      "metadata": {
        "id": "nE4UvX2KG269"
      }
    },
    {
      "cell_type": "code",
      "source": [
        "F0_METHOD = \"harvest\" #@param [\"crepe\", \"crepe-tiny\", \"parselmouth\", \"dio\", \"harvest\"]\n",
        "!svc pre-hubert -fm {F0_METHOD}"
      ],
      "metadata": {
        "id": "IfOqbLibHBuk"
      },
      "execution_count": null,
      "outputs": []
    },
    {
      "cell_type": "markdown",
      "source": [
        "Kode Training"
      ],
      "metadata": {
        "id": "BVzYDpjUHNiL"
      }
    },
    {
      "cell_type": "code",
      "source": [
        "%load_ext tensorboard\n",
        "%tensorboard --logdir drive/MyDrive/so-vits-svc-fork/logs/44k\n",
        "!svc train --model-path drive/MyDrive/so-vits-svc-fork/logs/44k"
      ],
      "metadata": {
        "id": "XTxTEpwLHIOh"
      },
      "execution_count": null,
      "outputs": []
    },
    {
      "cell_type": "markdown",
      "source": [
        "Minimal proses training dilakukan selama 30 menit, untuk hasil yang lebih baik disarankan 1 jam atau lebih"
      ],
      "metadata": {
        "id": "ETNK9lWBHR89"
      }
    }
  ]
}